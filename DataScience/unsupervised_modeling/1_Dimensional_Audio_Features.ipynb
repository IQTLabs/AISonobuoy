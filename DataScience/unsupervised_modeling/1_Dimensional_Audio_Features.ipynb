{
 "cells": [
  {
   "cell_type": "markdown",
   "id": "3f783dc9",
   "metadata": {},
   "source": [
    "# Creating 1-Dimesional Audio Feature Vectors for Clustering \n",
    "\n",
    "This notebook borrows heavliy from the following three sources: \n",
    "\n",
    "- [Audio Signal Processing for Machine Learning](https://www.youtube.com/playlist?list=PL-wATfeyAMNqIee7cH3q1bh4QJFAaeNv0)\n",
    "- [librosa](https://librosa.org/doc/main/index.html)\n",
    "- [Audio Feature Extraction](https://devopedia.org/audio-feature-extraction)"
   ]
  },
  {
   "cell_type": "code",
   "execution_count": 1,
   "id": "0d969e98",
   "metadata": {},
   "outputs": [
    {
     "data": {
      "text/html": [
       "<style>.container { width:100% !important; }</style>"
      ],
      "text/plain": [
       "<IPython.core.display.HTML object>"
      ]
     },
     "metadata": {},
     "output_type": "display_data"
    }
   ],
   "source": [
    "from IPython.display import display, HTML, Latex\n",
    "display(HTML(\"<style>.container { width:100% !important; }</style>\"))\n",
    "\n",
    "%matplotlib inline\n",
    "%config InlineBackend.figure_format = 'retina'\n",
    "\n",
    "class StopExecution(Exception):\n",
    "    def _render_traceback_(self):\n",
    "        print(\"Process Terminated\")"
   ]
  },
  {
   "cell_type": "markdown",
   "id": "894f3150",
   "metadata": {},
   "source": [
    "### Env Setup"
   ]
  },
  {
   "cell_type": "code",
   "execution_count": 2,
   "id": "01e6ef2e",
   "metadata": {},
   "outputs": [],
   "source": [
    "import os \n",
    "import math\n",
    "import numpy as np\n",
    "import librosa.display\n",
    "\n",
    "import matplotlib.pyplot as plt\n",
    "import librosa"
   ]
  },
  {
   "cell_type": "code",
   "execution_count": 40,
   "id": "ca57ab26",
   "metadata": {},
   "outputs": [],
   "source": [
    "ROOT = \"/home/ec2-user/tugboat_interval_ds\"\n",
    "TUGBOAT_PATH = os.path.join(ROOT, \"tugboat\")\n",
    "NOISE_PATH = os.path.join(ROOT, \"no_tugboat\")\n",
    "\n",
    "SAMPLING_RATE = 16000\n",
    "FRAME_LENGTH = 2048\n",
    "HOP_LENGTH = FRAME_LENGTH // 2\n",
    "WINDOW_LENGTH = FRAME_LENGTH\n",
    "\n",
    "INTERVAL_LENGTH = 10 # seconds\n",
    "SPLIT_FREQUENCY = 4000"
   ]
  },
  {
   "cell_type": "markdown",
   "id": "39e10e68",
   "metadata": {},
   "source": [
    "### Data Loading"
   ]
  },
  {
   "cell_type": "code",
   "execution_count": 4,
   "id": "8c811612",
   "metadata": {},
   "outputs": [],
   "source": [
    "tugboat_files_ls = [\n",
    "    os.path.join(TUGBOAT_PATH, x)\n",
    "    for x in os.listdir(TUGBOAT_PATH)\n",
    "    if x.endswith(\".wav\")\n",
    "]\n",
    "noise_files_ls = [\n",
    "    os.path.join(NOISE_PATH, x) for x in os.listdir(NOISE_PATH) if x.endswith(\".wav\")\n",
    "]"
   ]
  },
  {
   "cell_type": "code",
   "execution_count": 5,
   "id": "af72794e",
   "metadata": {},
   "outputs": [
    {
     "data": {
      "text/plain": [
       "(4030, 2918)"
      ]
     },
     "execution_count": 5,
     "metadata": {},
     "output_type": "execute_result"
    }
   ],
   "source": [
    "len(tugboat_files_ls), len(noise_files_ls)"
   ]
  },
  {
   "cell_type": "markdown",
   "id": "db580a84",
   "metadata": {},
   "source": [
    "### Window Features Driver Function"
   ]
  },
  {
   "cell_type": "code",
   "execution_count": 6,
   "id": "6b8287b8",
   "metadata": {},
   "outputs": [],
   "source": [
    "def create_and_save(\n",
    "    file_ls,\n",
    "    out_dir,\n",
    "    feature_func,\n",
    "    feature_interval,\n",
    "    sampling_rate=SAMPLING_RATE,\n",
    "    hop_length=HOP_LENGTH,\n",
    "    frame_length=FRAME_LENGTH,\n",
    "):\n",
    "    target_ctr = 0\n",
    "    for file in file_ls:\n",
    "        signal, sampling_rate = librosa.load(file, sr=sampling_rate)\n",
    "        if len(signal) > 0:\n",
    "            feature = feature_func(\n",
    "                signal, frame_length=frame_length, hop_length=hop_length\n",
    "            )\n",
    "            frames = range(0, feature.size)\n",
    "            feature_time = librosa.frames_to_time(\n",
    "                frames, hop_length=hop_length, sr=sampling_rate\n",
    "            )\n",
    "            prev_window = None\n",
    "            prev_index = 0\n",
    "            if len(feature_time) > 0:\n",
    "                for window in range(0, math.ceil(feature_time[-1]), feature_interval):\n",
    "                    # Throws away windows shorter than interval\n",
    "                    if prev_window != None:\n",
    "                        curr_index = len(\n",
    "                            feature_time[\n",
    "                                (feature_time < window) & (feature_time > prev_window)\n",
    "                            ]\n",
    "                        )\n",
    "                        save_feature = feature[prev_index : prev_index + curr_index]\n",
    "                        save_feature.flags.writeable = False\n",
    "                        np.save(os.path.join(out_dir, str(target_ctr)), save_feature)\n",
    "                        target_ctr += 1\n",
    "                        prev_index = prev_index + curr_index\n",
    "\n",
    "                    prev_window = window\n",
    "    return f\"Saved {target_ctr} features\""
   ]
  },
  {
   "cell_type": "markdown",
   "id": "83457ec0",
   "metadata": {},
   "source": [
    "## Time Domain Audio Features"
   ]
  },
  {
   "cell_type": "markdown",
   "id": "3b0c3c62",
   "metadata": {},
   "source": [
    "### Ampilitude Envelope \n",
    "\n",
    "Takes the max ampilitude for the window size you specify"
   ]
  },
  {
   "cell_type": "code",
   "execution_count": 7,
   "id": "20cf2789",
   "metadata": {},
   "outputs": [],
   "source": [
    "AE_TUG_OUT = \"/home/ec2-user/clustering/amplitude_envelope/tugboat\"\n",
    "AE_NOISE_OUT = \"/home/ec2-user/clustering/amplitude_envelope/no_tugboat\"\n",
    "\n",
    "os.makedirs(AE_TUG_OUT, exist_ok=True)\n",
    "os.makedirs(AE_NOISE_OUT, exist_ok=True)"
   ]
  },
  {
   "cell_type": "code",
   "execution_count": 8,
   "id": "4f265c6e",
   "metadata": {},
   "outputs": [],
   "source": [
    "def amplitude_envelope(signal, frame_length=FRAME_LENGTH, hop_length=HOP_LENGTH):\n",
    "    return np.array(\n",
    "        [max(signal[i : i + frame_length]) for i in range(0, len(signal), hop_length)]\n",
    "    )"
   ]
  },
  {
   "cell_type": "code",
   "execution_count": 9,
   "id": "efdba1b1",
   "metadata": {},
   "outputs": [
    {
     "data": {
      "text/plain": [
       "'Saved 5261 features'"
      ]
     },
     "execution_count": 9,
     "metadata": {},
     "output_type": "execute_result"
    }
   ],
   "source": [
    "create_and_save(\n",
    "    tugboat_files_ls,\n",
    "    AE_TUG_OUT,\n",
    "    amplitude_envelope,\n",
    "    INTERVAL_LENGTH,\n",
    "    sampling_rate=SAMPLING_RATE,\n",
    "    hop_length=HOP_LENGTH,\n",
    "    frame_length=FRAME_LENGTH,\n",
    ")"
   ]
  },
  {
   "cell_type": "code",
   "execution_count": 10,
   "id": "10b62f51",
   "metadata": {},
   "outputs": [
    {
     "data": {
      "text/plain": [
       "'Saved 169484 features'"
      ]
     },
     "execution_count": 10,
     "metadata": {},
     "output_type": "execute_result"
    },
    {
     "data": {
      "text/plain": [
       "'Saved 169484 features'"
      ]
     },
     "execution_count": 10,
     "metadata": {},
     "output_type": "execute_result"
    },
    {
     "data": {
      "text/plain": [
       "'Saved 169484 features'"
      ]
     },
     "execution_count": 10,
     "metadata": {},
     "output_type": "execute_result"
    }
   ],
   "source": [
    "create_and_save(\n",
    "    noise_files_ls,\n",
    "    AE_NOISE_OUT,\n",
    "    amplitude_envelope,\n",
    "    INTERVAL_LENGTH,\n",
    "    sampling_rate=SAMPLING_RATE,\n",
    "    hop_length=HOP_LENGTH,\n",
    "    frame_length=FRAME_LENGTH,\n",
    ")"
   ]
  },
  {
   "cell_type": "markdown",
   "id": "21411c58",
   "metadata": {},
   "source": [
    "### Root Mean Squared Energy (RMSE)\n",
    "\n",
    "RMSE generally captures the average of the ampilitude changes within a given windows while minimizing outlier-related variance "
   ]
  },
  {
   "cell_type": "code",
   "execution_count": 7,
   "id": "48fbfa16",
   "metadata": {},
   "outputs": [],
   "source": [
    "RMSE_TUG_OUT = \"/home/ec2-user/clustering/rmse/tugboat\"\n",
    "RMSE_NOISE_OUT = \"/home/ec2-user/clustering/rmse/no_tugboat\"\n",
    "\n",
    "os.makedirs(RMSE_TUG_OUT, exist_ok=True)\n",
    "os.makedirs(RMSE_NOISE_OUT, exist_ok=True)"
   ]
  },
  {
   "cell_type": "code",
   "execution_count": 8,
   "id": "d4234863",
   "metadata": {},
   "outputs": [],
   "source": [
    "def rmse(signal, frame_length=FRAME_LENGTH, hop_length=HOP_LENGTH):\n",
    "    return np.array(\n",
    "        [\n",
    "            np.sqrt(np.sum(signal[i : i + frame_length] ** 2) / frame_length)\n",
    "            for i in range(0, len(signal), hop_length)\n",
    "        ]\n",
    "    )"
   ]
  },
  {
   "cell_type": "code",
   "execution_count": 9,
   "id": "bfa20c3e",
   "metadata": {},
   "outputs": [
    {
     "data": {
      "text/plain": [
       "'Saved 5261 features'"
      ]
     },
     "execution_count": 9,
     "metadata": {},
     "output_type": "execute_result"
    }
   ],
   "source": [
    "create_and_save(\n",
    "    tugboat_files_ls,\n",
    "    RMSE_TUG_OUT,\n",
    "    rmse,\n",
    "    INTERVAL_LENGTH,\n",
    "    sampling_rate=SAMPLING_RATE,\n",
    "    hop_length=HOP_LENGTH,\n",
    "    frame_length=FRAME_LENGTH,\n",
    ")"
   ]
  },
  {
   "cell_type": "code",
   "execution_count": 10,
   "id": "b10b3421",
   "metadata": {},
   "outputs": [
    {
     "data": {
      "text/plain": [
       "'Saved 169484 features'"
      ]
     },
     "execution_count": 10,
     "metadata": {},
     "output_type": "execute_result"
    }
   ],
   "source": [
    "create_and_save(\n",
    "    noise_files_ls,\n",
    "    RMSE_NOISE_OUT,\n",
    "    rmse,\n",
    "    INTERVAL_LENGTH,\n",
    "    sampling_rate=SAMPLING_RATE,\n",
    "    hop_length=HOP_LENGTH,\n",
    "    frame_length=FRAME_LENGTH,\n",
    ")"
   ]
  },
  {
   "cell_type": "markdown",
   "id": "eb239a08",
   "metadata": {},
   "source": [
    "### Zero-Crossing Rate (ZCR)\n",
    "\n",
    "ZCR measures the number of sign changes and so are typically used in speech detection because human speech contains many +/- ampilitude changes "
   ]
  },
  {
   "cell_type": "code",
   "execution_count": 11,
   "id": "e0a1c81d",
   "metadata": {},
   "outputs": [],
   "source": [
    "ZRC_TUG_OUT = \"/home/ec2-user/clustering/zcr/tugboat\"\n",
    "ZRC_NOISE_OUT = \"/home/ec2-user/clustering/zcr/no_tugboat\"\n",
    "\n",
    "os.makedirs(ZRC_TUG_OUT, exist_ok=True)\n",
    "os.makedirs(ZRC_NOISE_OUT, exist_ok=True)"
   ]
  },
  {
   "cell_type": "code",
   "execution_count": 12,
   "id": "a165a834",
   "metadata": {},
   "outputs": [],
   "source": [
    "def zcr(signal, frame_length=FRAME_LENGTH, hop_length=HOP_LENGTH):\n",
    "    return librosa.feature.zero_crossing_rate(\n",
    "        signal, frame_length=frame_length, hop_length=hop_length\n",
    "    ).flatten()"
   ]
  },
  {
   "cell_type": "code",
   "execution_count": 13,
   "id": "93ead9c6",
   "metadata": {},
   "outputs": [
    {
     "data": {
      "text/plain": [
       "'Saved 5261 features'"
      ]
     },
     "execution_count": 13,
     "metadata": {},
     "output_type": "execute_result"
    }
   ],
   "source": [
    "create_and_save(\n",
    "    tugboat_files_ls,\n",
    "    ZRC_TUG_OUT,\n",
    "    zcr,\n",
    "    INTERVAL_LENGTH,\n",
    "    sampling_rate=SAMPLING_RATE,\n",
    "    hop_length=HOP_LENGTH,\n",
    "    frame_length=FRAME_LENGTH,\n",
    ")"
   ]
  },
  {
   "cell_type": "code",
   "execution_count": 14,
   "id": "3ac7aa33",
   "metadata": {},
   "outputs": [
    {
     "data": {
      "text/plain": [
       "'Saved 169484 features'"
      ]
     },
     "execution_count": 14,
     "metadata": {},
     "output_type": "execute_result"
    }
   ],
   "source": [
    "create_and_save(\n",
    "    noise_files_ls,\n",
    "    ZRC_NOISE_OUT,\n",
    "    zcr,\n",
    "    INTERVAL_LENGTH,\n",
    "    sampling_rate=SAMPLING_RATE,\n",
    "    hop_length=HOP_LENGTH,\n",
    "    frame_length=FRAME_LENGTH,\n",
    ")"
   ]
  },
  {
   "cell_type": "markdown",
   "id": "9fb44271",
   "metadata": {},
   "source": [
    "## Frequency Domain Audio Features"
   ]
  },
  {
   "cell_type": "markdown",
   "id": "806c1d9b",
   "metadata": {},
   "source": [
    "### Spectral Centroid\n",
    "\n",
    "A Magnitude spectrogram (Frequency Domain in Hz) is windowed and the center of gravity of the magnitude spectrum is extracted (where most of the energy is concentrated)"
   ]
  },
  {
   "cell_type": "code",
   "execution_count": 18,
   "id": "a257bf15",
   "metadata": {},
   "outputs": [],
   "source": [
    "SC_TUG_OUT = \"/home/ec2-user/clustering/spectral_centroid/tugboat\"\n",
    "SC_NOISE_OUT = \"/home/ec2-user/clustering/spectral_centroid/no_tugboat\"\n",
    "\n",
    "os.makedirs(SC_TUG_OUT, exist_ok=True)\n",
    "os.makedirs(SC_NOISE_OUT, exist_ok=True)"
   ]
  },
  {
   "cell_type": "code",
   "execution_count": 19,
   "id": "2cb43ffe",
   "metadata": {},
   "outputs": [],
   "source": [
    "def spectral_centroid(\n",
    "    signal,\n",
    "    frame_length=FRAME_LENGTH,\n",
    "    hop_length=HOP_LENGTH,\n",
    "    sampling_rate=SAMPLING_RATE,\n",
    "):\n",
    "    return librosa.feature.spectral_centroid(\n",
    "        y=signal, sr=sampling_rate, n_fft=frame_length, hop_length=hop_length\n",
    "    ).flatten()"
   ]
  },
  {
   "cell_type": "code",
   "execution_count": 20,
   "id": "35c1e5d7",
   "metadata": {},
   "outputs": [
    {
     "data": {
      "text/plain": [
       "'Saved 5261 features'"
      ]
     },
     "execution_count": 20,
     "metadata": {},
     "output_type": "execute_result"
    }
   ],
   "source": [
    "create_and_save(\n",
    "    tugboat_files_ls,\n",
    "    SC_TUG_OUT,\n",
    "    spectral_centroid,\n",
    "    INTERVAL_LENGTH,\n",
    "    sampling_rate=SAMPLING_RATE,\n",
    "    hop_length=HOP_LENGTH,\n",
    "    frame_length=FRAME_LENGTH,\n",
    ")"
   ]
  },
  {
   "cell_type": "code",
   "execution_count": 21,
   "id": "354c55aa",
   "metadata": {},
   "outputs": [
    {
     "data": {
      "text/plain": [
       "'Saved 169484 features'"
      ]
     },
     "execution_count": 21,
     "metadata": {},
     "output_type": "execute_result"
    }
   ],
   "source": [
    "create_and_save(\n",
    "    noise_files_ls,\n",
    "    SC_NOISE_OUT,\n",
    "    spectral_centroid,\n",
    "    INTERVAL_LENGTH,\n",
    "    sampling_rate=SAMPLING_RATE,\n",
    "    hop_length=HOP_LENGTH,\n",
    "    frame_length=FRAME_LENGTH,\n",
    ")"
   ]
  },
  {
   "cell_type": "markdown",
   "id": "202b6a8e",
   "metadata": {},
   "source": [
    "### Spectral Bandwidth \n",
    "\n",
    "The variance of the spectral centroid that is proportional to the amount of energy in all of the bands"
   ]
  },
  {
   "cell_type": "code",
   "execution_count": 31,
   "id": "55a0d82b",
   "metadata": {},
   "outputs": [],
   "source": [
    "SB_TUG_OUT = \"/home/ec2-user/clustering/spectral_bandwidth/tugboat\"\n",
    "SB_NOISE_OUT = \"/home/ec2-user/clustering/spectral_bandwidth/no_tugboat\"\n",
    "\n",
    "os.makedirs(SB_TUG_OUT, exist_ok=True)\n",
    "os.makedirs(SB_NOISE_OUT, exist_ok=True)"
   ]
  },
  {
   "cell_type": "code",
   "execution_count": 32,
   "id": "0bfe984b",
   "metadata": {},
   "outputs": [],
   "source": [
    "def spectral_bandwidth(\n",
    "    signal,\n",
    "    frame_length=FRAME_LENGTH,\n",
    "    hop_length=HOP_LENGTH,\n",
    "    sampling_rate=SAMPLING_RATE,\n",
    "):\n",
    "    return librosa.feature.spectral_bandwidth(\n",
    "        y=signal, sr=sampling_rate, n_fft=frame_length, hop_length=hop_length\n",
    "    ).flatten()"
   ]
  },
  {
   "cell_type": "code",
   "execution_count": 33,
   "id": "46cf4c57",
   "metadata": {},
   "outputs": [
    {
     "data": {
      "text/plain": [
       "'Saved 5261 features'"
      ]
     },
     "execution_count": 33,
     "metadata": {},
     "output_type": "execute_result"
    }
   ],
   "source": [
    "create_and_save(\n",
    "    tugboat_files_ls,\n",
    "    SB_TUG_OUT,\n",
    "    spectral_bandwidth,\n",
    "    INTERVAL_LENGTH,\n",
    "    sampling_rate=SAMPLING_RATE,\n",
    "    hop_length=HOP_LENGTH,\n",
    "    frame_length=FRAME_LENGTH,\n",
    ")"
   ]
  },
  {
   "cell_type": "code",
   "execution_count": 34,
   "id": "98c07d07",
   "metadata": {},
   "outputs": [
    {
     "data": {
      "text/plain": [
       "'Saved 169484 features'"
      ]
     },
     "execution_count": 34,
     "metadata": {},
     "output_type": "execute_result"
    }
   ],
   "source": [
    "create_and_save(\n",
    "    noise_files_ls,\n",
    "    SB_NOISE_OUT,\n",
    "    spectral_bandwidth,\n",
    "    INTERVAL_LENGTH,\n",
    "    sampling_rate=SAMPLING_RATE,\n",
    "    hop_length=HOP_LENGTH,\n",
    "    frame_length=FRAME_LENGTH,\n",
    ")"
   ]
  },
  {
   "cell_type": "markdown",
   "id": "d6a9386c",
   "metadata": {},
   "source": [
    "### Band Energy Ratio\n",
    "\n",
    "A ratio created by defining some frequency to divide the singal into two parts and then dividing the power in the higher frequency bins by the power in the lower frequency bins"
   ]
  },
  {
   "cell_type": "code",
   "execution_count": 43,
   "id": "a853e558",
   "metadata": {},
   "outputs": [],
   "source": [
    "BNE_TUG_OUT = \"/home/ec2-user/clustering/band_energy_ratio/tugboat\"\n",
    "BNE_NOISE_OUT = \"/home/ec2-user/clustering/band_energy_ratio/no_tugboat\"\n",
    "\n",
    "os.makedirs(BNE_TUG_OUT, exist_ok=True)\n",
    "os.makedirs(BNE_NOISE_OUT, exist_ok=True)"
   ]
  },
  {
   "cell_type": "code",
   "execution_count": 49,
   "id": "25c29bc7",
   "metadata": {},
   "outputs": [],
   "source": [
    "def calcluate_split_frequency_bin(spectrogram, split_frequency, sample_rate):\n",
    "    frequency_range = sample_rate / 2 \n",
    "    frequency_delta_per_bin = frequency_range / spectrogram.shape[0]\n",
    "    split_frequency_bin = np.floor(split_frequency / frequency_delta_per_bin)\n",
    "    return int(split_frequency_bin)\n",
    "\n",
    "def calculate_band_energy_ratio(spectrogram, split_frequency, sample_rate):\n",
    "    split_frequency_bin = calcluate_split_frequency_bin(spectrogram, split_frequency, sample_rate)\n",
    "    power_spec = np.abs(spectrogram) ** 2 \n",
    "    power_spec = power_spec.T\n",
    "    \n",
    "    band_energy_ratio = []\n",
    "    \n",
    "    for frequencies_in_frame in power_spec:\n",
    "        sum_power_low_frequencies = np.sum(frequencies_in_frame[:split_frequency_bin])\n",
    "        sum_power_high_frequencies = np.sum(frequencies_in_frame[split_frequency_bin:])\n",
    "        if sum_power_high_frequencies != 0:\n",
    "            ber_current_frame = sum_power_low_frequencies / sum_power_high_frequencies\n",
    "        else:\n",
    "            ber_current_frame = 0\n",
    "        band_energy_ratio.append(ber_current_frame)\n",
    "    \n",
    "    return np.array(band_energy_ratio)\n",
    "\n",
    "def band_energy_ratio(\n",
    "    signal,\n",
    "    split_frequency=SPLIT_FREQUENCY,\n",
    "    frame_length=FRAME_LENGTH,\n",
    "    hop_length=HOP_LENGTH,\n",
    "    sampling_rate=SAMPLING_RATE,\n",
    "):\n",
    "    specgram = librosa.stft(signal, n_fft=frame_length, hop_length=hop_length)\n",
    "    return calculate_band_energy_ratio(specgram, split_frequency, sampling_rate)\n",
    "    "
   ]
  },
  {
   "cell_type": "code",
   "execution_count": 45,
   "id": "4056c9bb",
   "metadata": {},
   "outputs": [
    {
     "data": {
      "text/plain": [
       "'Saved 5261 features'"
      ]
     },
     "execution_count": 45,
     "metadata": {},
     "output_type": "execute_result"
    }
   ],
   "source": [
    "create_and_save(\n",
    "    tugboat_files_ls,\n",
    "    BNE_TUG_OUT,\n",
    "    band_energy_ratio,\n",
    "    INTERVAL_LENGTH,\n",
    "    sampling_rate=SAMPLING_RATE,\n",
    "    hop_length=HOP_LENGTH,\n",
    "    frame_length=FRAME_LENGTH,\n",
    ")"
   ]
  },
  {
   "cell_type": "code",
   "execution_count": 51,
   "id": "89968983",
   "metadata": {},
   "outputs": [
    {
     "data": {
      "text/plain": [
       "'Saved 169484 features'"
      ]
     },
     "execution_count": 51,
     "metadata": {},
     "output_type": "execute_result"
    }
   ],
   "source": [
    "create_and_save(\n",
    "    noise_files_ls,\n",
    "    BNE_NOISE_OUT,\n",
    "    band_energy_ratio,\n",
    "    INTERVAL_LENGTH,\n",
    "    sampling_rate=SAMPLING_RATE,\n",
    "    hop_length=HOP_LENGTH,\n",
    "    frame_length=FRAME_LENGTH,\n",
    ")"
   ]
  },
  {
   "cell_type": "markdown",
   "id": "27fd2bf5",
   "metadata": {},
   "source": [
    "### Spectral Flux\n",
    "\n",
    "Spectral Flux is a measure of how quickly the power spectrum of a signal is changing"
   ]
  },
  {
   "cell_type": "code",
   "execution_count": 57,
   "id": "68d652db",
   "metadata": {},
   "outputs": [],
   "source": [
    "SF_TUG_OUT = \"/home/ec2-user/clustering/spectral_flux/tugboat\"\n",
    "SF_NOISE_OUT = \"/home/ec2-user/clustering/spectral_flux/no_tugboat\"\n",
    "\n",
    "os.makedirs(SF_TUG_OUT, exist_ok=True)\n",
    "os.makedirs(SF_NOISE_OUT, exist_ok=True)"
   ]
  },
  {
   "cell_type": "code",
   "execution_count": 63,
   "id": "50b1faba",
   "metadata": {},
   "outputs": [],
   "source": [
    "def spectral_flux(\n",
    "    signal,\n",
    "    frame_length=FRAME_LENGTH,\n",
    "    hop_length=HOP_LENGTH,\n",
    "    sampling_rate=SAMPLING_RATE,\n",
    "):\n",
    "    return librosa.onset.onset_strength(y=signal, sr=sampling_rate, hop_length=hop_length)"
   ]
  },
  {
   "cell_type": "code",
   "execution_count": 64,
   "id": "342ecada",
   "metadata": {},
   "outputs": [
    {
     "data": {
      "text/plain": [
       "'Saved 5261 features'"
      ]
     },
     "execution_count": 64,
     "metadata": {},
     "output_type": "execute_result"
    }
   ],
   "source": [
    "create_and_save(\n",
    "    tugboat_files_ls,\n",
    "    SF_TUG_OUT,\n",
    "    spectral_flux,\n",
    "    INTERVAL_LENGTH,\n",
    "    sampling_rate=SAMPLING_RATE,\n",
    "    hop_length=HOP_LENGTH,\n",
    "    frame_length=FRAME_LENGTH,\n",
    ")"
   ]
  },
  {
   "cell_type": "code",
   "execution_count": 65,
   "id": "fb614d98",
   "metadata": {},
   "outputs": [
    {
     "data": {
      "text/plain": [
       "'Saved 169484 features'"
      ]
     },
     "execution_count": 65,
     "metadata": {},
     "output_type": "execute_result"
    }
   ],
   "source": [
    "create_and_save(\n",
    "    noise_files_ls,\n",
    "    SF_NOISE_OUT,\n",
    "    spectral_flux,\n",
    "    INTERVAL_LENGTH,\n",
    "    sampling_rate=SAMPLING_RATE,\n",
    "    hop_length=HOP_LENGTH,\n",
    "    frame_length=FRAME_LENGTH,\n",
    ")"
   ]
  }
 ],
 "metadata": {
  "kernelspec": {
   "display_name": "Python 3 (ipykernel)",
   "language": "python",
   "name": "python3"
  },
  "language_info": {
   "codemirror_mode": {
    "name": "ipython",
    "version": 3
   },
   "file_extension": ".py",
   "mimetype": "text/x-python",
   "name": "python",
   "nbconvert_exporter": "python",
   "pygments_lexer": "ipython3",
   "version": "3.9.13"
  }
 },
 "nbformat": 4,
 "nbformat_minor": 5
}
